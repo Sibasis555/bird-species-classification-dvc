{
 "cells": [
  {
   "cell_type": "code",
   "execution_count": 1,
   "metadata": {},
   "outputs": [
    {
     "data": {
      "text/plain": [
       "'e:\\\\scaledge_projects\\\\bird_species_classification\\\\research'"
      ]
     },
     "execution_count": 1,
     "metadata": {},
     "output_type": "execute_result"
    }
   ],
   "source": [
    "%pwd"
   ]
  },
  {
   "cell_type": "code",
   "execution_count": 2,
   "metadata": {},
   "outputs": [],
   "source": [
    "import os\n",
    "os.chdir(\"../\")"
   ]
  },
  {
   "cell_type": "code",
   "execution_count": 3,
   "metadata": {},
   "outputs": [
    {
     "data": {
      "text/plain": [
       "'e:\\\\scaledge_projects\\\\bird_species_classification'"
      ]
     },
     "execution_count": 3,
     "metadata": {},
     "output_type": "execute_result"
    }
   ],
   "source": [
    "%pwd"
   ]
  },
  {
   "cell_type": "code",
   "execution_count": 4,
   "metadata": {},
   "outputs": [],
   "source": [
    "from dataclasses import dataclass\n",
    "from pathlib import Path"
   ]
  },
  {
   "cell_type": "code",
   "execution_count": 5,
   "metadata": {},
   "outputs": [],
   "source": [
    "@dataclass(frozen=True)\n",
    "class PrepareBaseModelConfig:\n",
    "    root_dir: Path\n",
    "    base_model_path: Path\n",
    "    updated_base_model_path: Path\n",
    "    params_image_size: list\n",
    "    params_learning_rate: float\n",
    "    params_include_top: bool\n",
    "    params_momentum: float\n",
    "    params_classes: int"
   ]
  },
  {
   "cell_type": "code",
   "execution_count": 6,
   "metadata": {},
   "outputs": [
    {
     "name": "stdout",
     "output_type": "stream",
     "text": [
      "src\\bird_classification\\utils\\config.yaml\n"
     ]
    }
   ],
   "source": [
    "import torch\n",
    "import torch.nn as nn\n",
    "import torch.nn.functional as F\n",
    "from torch.utils.data import DataLoader, Dataset\n",
    "from torchvision import datasets,models,transforms\n",
    "import torchvision\n",
    "# from src.bird_classification.entity.config_entity import PrepareBaseModelConfig\n",
    "from src.bird_classification.utils import *\n",
    "from src.bird_classification.utils.common import create_directories\n",
    "from collections import OrderedDict"
   ]
  },
  {
   "cell_type": "code",
   "execution_count": 71,
   "metadata": {},
   "outputs": [
    {
     "name": "stdout",
     "output_type": "stream",
     "text": [
      "{'AUGMENTATION': True, 'IMAGE_SIZE': [224, 224, 3], 'BATCH_SIZE': 32, 'INCLUDE_TOP': False, 'EPOCHS': 2, 'CLASSES': 10, 'MOMENTUM': 0.9, 'LEARNING_RATE': 0.01}\n",
      "{'artifacts_root': 'artifacts', 'data_ingestion': {'root_dir': 'artifacts/data_ingestion', 'source_URL': 'https://github.com/Sibasis555/Face_mask_detection/raw/main/datasets/dummy_bird_species.zip', 'local_data_file': 'artifacts/data_ingestion/dummy_bird_species.zip', 'unzip_dir': 'artifacts/data_ingestion'}, 'prepare_base_model': {'root_dir': 'artifacts/prepare_base_model', 'base_model_path': 'artifacts/prepare_base_model/base_model.pth', 'updated_base_model_path': 'artifacts/prepare_base_model/base_model_updated.pth'}, 'prepare_callbacks': {'root_dir': 'artifacts/prepare_callbacks', 'tensorboard_root_log_dir': 'artifacts/prepare_callbacks/tensorboard_log_dir', 'checkpoint_model_filepath': 'artifacts/prepare_callbacks/checkpoint_dir/model.h5'}, 'training': {'root_dir': 'artifacts/training', 'trained_model_path': 'artifacts/training/model.h5'}}\n"
     ]
    }
   ],
   "source": [
    "with open(\"src/bird_classification/utils/params.yaml\", 'r') as file:\n",
    "        params = yaml.safe_load(file)\n",
    "        print(params)\n",
    "\n",
    "with open(\"src/bird_classification/utils/config.yaml\", 'r') as file:\n",
    "        config = yaml.safe_load(file)\n",
    "        print(config)"
   ]
  },
  {
   "cell_type": "code",
   "execution_count": 7,
   "metadata": {},
   "outputs": [],
   "source": [
    "class ConfigurationManager: #Config Entity data\n",
    "    def __init__(self):\n",
    "\n",
    "        self.config = CONFIG_FILE\n",
    "        self.params = PARAMS_FILE\n",
    "    \n",
    "        create_directories([self.config[\"artifacts_root\"]])\n",
    "\n",
    "\n",
    "    def get_prepare_base_model_config(self) -> PrepareBaseModelConfig:\n",
    "        config = self.config[\"prepare_base_model\"]\n",
    "        \n",
    "        create_directories([config[\"root_dir\"]])\n",
    "        print(self.params)\n",
    "        print(config[\"base_model_path\"])\n",
    "        prepare_base_model_config = PrepareBaseModelConfig(\n",
    "            root_dir=Path(config[\"root_dir\"]),\n",
    "            base_model_path=Path(config[\"base_model_path\"]),\n",
    "            updated_base_model_path=Path(config[\"updated_base_model_path\"]),\n",
    "            params_image_size=self.params[\"IMAGE_SIZE\"],\n",
    "            params_learning_rate=self.params['LEARNING_RATE'],\n",
    "            params_include_top=self.params[\"INCLUDE_TOP\"],\n",
    "            params_momentum=self.params[\"MOMENTUM\"],\n",
    "            params_classes=self.params[\"CLASSES\"]\n",
    "        )\n",
    "\n",
    "        return prepare_base_model_config"
   ]
  },
  {
   "cell_type": "code",
   "execution_count": 16,
   "metadata": {},
   "outputs": [],
   "source": [
    "class PrepareBaseModel:\n",
    "    def __init__(self, config: PrepareBaseModelConfig):\n",
    "        self.config = config\n",
    "    \n",
    "    def get_model(self):\n",
    "        self.base_model=models.alexnet(weights=None)\n",
    "        for param in self.base_model.parameters():\n",
    "            param.required_grad=False\n",
    "        print(self.config.base_model_path)\n",
    "        self.save_model(self.config.base_model_path, self.base_model)\n",
    "\n",
    "    # @staticmethod\n",
    "    def model_fc_layer(self, classes):\n",
    "        self.base_model.fc = nn.Sequential(OrderedDict([\n",
    "                ('dp1', nn.Dropout(0.2)),\n",
    "                ('fc1', nn.Linear(9216, classes)),\n",
    "                ('out', nn.Softmax(dim=1))\n",
    "        ]))\n",
    "        return self.base_model\n",
    "\n",
    "    def update_base_model(self):\n",
    "        self.full_model = self.model_fc_layer(classes=self.config.params_classes)\n",
    "        # optimizer=torch.optim.SGD(self.full_model.parameters(),lr=self.config.params_learning_rate,momentum=self.config.params_momentum)\n",
    "        self.save_model(path=self.config.updated_base_model_path, model=self.full_model)\n",
    "    @staticmethod\n",
    "    def save_model(path, model):\n",
    "        torch.save(model,path)"
   ]
  },
  {
   "cell_type": "code",
   "execution_count": 17,
   "metadata": {},
   "outputs": [
    {
     "name": "stdout",
     "output_type": "stream",
     "text": [
      "[2023-07-19 15:54:18,183: INFO: common: created directory at: artifacts]\n",
      "[2023-07-19 15:54:18,183: INFO: common: created directory at: artifacts/prepare_base_model]\n",
      "{'AUGMENTATION': True, 'IMAGE_SIZE': [224, 224, 3], 'BATCH_SIZE': 32, 'INCLUDE_TOP': False, 'EPOCHS': 2, 'CLASSES': 10, 'MOMENTUM': 0.9, 'LEARNING_RATE': 0.01}\n",
      "artifacts/prepare_base_model/base_model.pth\n",
      "artifacts\\prepare_base_model\\base_model.pth\n",
      "hii artifacts\\prepare_base_model\\base_model.pth\n",
      "hii artifacts\\prepare_base_model\\base_model_updated.pth\n"
     ]
    }
   ],
   "source": [
    "try:\n",
    "    config = ConfigurationManager()\n",
    "    prepare_base_model_config = config.get_prepare_base_model_config()\n",
    "    prepare_base_model = PrepareBaseModel(config=prepare_base_model_config)\n",
    "    prepare_base_model.get_model()\n",
    "    prepare_base_model.update_base_model()\n",
    "    \n",
    "except Exception as e:\n",
    "    raise e"
   ]
  },
  {
   "cell_type": "code",
   "execution_count": null,
   "metadata": {},
   "outputs": [],
   "source": []
  },
  {
   "cell_type": "code",
   "execution_count": null,
   "metadata": {},
   "outputs": [],
   "source": []
  }
 ],
 "metadata": {
  "kernelspec": {
   "display_name": "bird_venv",
   "language": "python",
   "name": "python3"
  },
  "language_info": {
   "codemirror_mode": {
    "name": "ipython",
    "version": 3
   },
   "file_extension": ".py",
   "mimetype": "text/x-python",
   "name": "python",
   "nbconvert_exporter": "python",
   "pygments_lexer": "ipython3",
   "version": "3.8.10"
  },
  "orig_nbformat": 4
 },
 "nbformat": 4,
 "nbformat_minor": 2
}
